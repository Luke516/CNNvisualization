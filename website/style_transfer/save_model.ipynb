{
 "cells": [
  {
   "cell_type": "code",
   "execution_count": 1,
   "metadata": {
    "scrolled": true
   },
   "outputs": [],
   "source": [
    "# from adain import *\n",
    "import tensorflow as tf\n",
    "import numpy as np\n",
    "import tensorflow.keras as keras\n",
    "from tensorflow.keras.applications import VGG19\n",
    "\n",
    "tf.compat.v1.disable_eager_execution()\n",
    "\n",
    "#==================================================\n",
    "_V19In = 0x100 #0xE0\n",
    "_V19InSq = _V19In * _V19In\n",
    "_V19InHl = _V19In >> 0x1\n",
    "_V19Out = _V19In >> 0x3\n",
    "\n",
    "# VGG19 was trained by Caffe which converted images from RGB to BGR,\n",
    "# then zero-centered each color channel with respect to the ImageNet \n",
    "# dataset, without scaling.  \n",
    "_V19Mn = np.array([103.939, 116.779, 123.68], dtype = np.float32) # BGR\n",
    "_V19Lo = -_V19Mn \n",
    "_V19Hi = 255.0 - _V19Mn \n",
    "_tfV19Mn = tf.convert_to_tensor(_V19Mn)\n",
    "_tfV19Lo = tf.convert_to_tensor(_V19Lo)\n",
    "_tfV19Hi = tf.convert_to_tensor(_V19Hi)\n",
    "_V19HW = (_V19In, _V19In)\n",
    "_V19HWhlf = (_V19InHl, _V19InHl)\n",
    "_V19HWC = (_V19In, _V19In, 0x3)\n",
    "_V19XSC = (-0x1, _V19InSq, 0x3)\n",
    "_V19NSC = (None, _V19InSq, 0x3)\n",
    "_V19BHWC = (0x1, _V19In, _V19In, 0x3)\n",
    "_V19XHWC = (-0x1, _V19In, _V19In, 0x3)\n",
    "_V19NHWC = (None, _V19In, _V19In, 0x3)\n",
    "_V19B4C1 = (_V19Out, _V19Out, 0x200)\n",
    "_V19B4C1N = (None, _V19Out, _V19Out, 0x200)\n",
    "\n",
    "_YIQMl = np.array([0.114, 0.587, 0.299], dtype = np.float32) # BGR\n",
    "_YIQBa = np.dot(_YIQMl, _V19Mn)\n",
    "_YIQAx = (0x3, 0x0)\n",
    "_ADA_TKN = \"in_ada\"\n",
    "#==================================================\n",
    "\n",
    "input_c = tf.compat.v1.placeholder(dtype=tf.float32, shape=(None,)+_V19HWC, name='input_c')\n",
    "input_s = tf.compat.v1.placeholder(dtype=tf.float32, shape=(None,)+_V19HWC, name='input_s')\n",
    "\n",
    "vgg = VGG19(include_top = False, weights = \"imagenet\", input_shape = _V19HWC)"
   ]
  },
  {
   "cell_type": "code",
   "execution_count": 2,
   "metadata": {},
   "outputs": [
    {
     "name": "stdout",
     "output_type": "stream",
     "text": [
      "Tensor(\"block4_conv1_1/Relu:0\", shape=(None, 32, 32, 512), dtype=float32)\n",
      "Tensor(\"block4_conv1_2/Relu:0\", shape=(None, 32, 32, 512), dtype=float32)\n"
     ]
    }
   ],
   "source": [
    "encode_c = input_c\n",
    "encode_s = input_s\n",
    "for l in vgg.layers[1:]:\n",
    "    encode_c = l(encode_c)\n",
    "    encode_s = l(encode_s)\n",
    "    l.trainable = False\n",
    "    if \"block4_conv1\" in l.name:\n",
    "        break\n",
    "print(encode_c)\n",
    "print(encode_s)\n"
   ]
  },
  {
   "cell_type": "code",
   "execution_count": 3,
   "metadata": {},
   "outputs": [],
   "source": [
    "def decoder(input_t, input_c, input_s):\n",
    "    # Decoder\n",
    "    _fd0 = input_t\n",
    "#     _fd0 = keras.Input(shape = _V19B4C1, name = _ADA_TKN)\n",
    "    _d1_1 = keras.layers.Conv2DTranspose(\n",
    "                0x100,\n",
    "                0x3,\n",
    "                padding = \"same\", \n",
    "                activation = \"relu\"\n",
    "    )\n",
    "    _fd1_1 = _d1_1(_fd0)\n",
    "    _d1_u = keras.layers.UpSampling2D(0x2)\n",
    "    _fd1 = _d1_u(_fd1_1)\n",
    "    _d2_1 = keras.layers.Conv2DTranspose(\n",
    "            0x100,\n",
    "            0x3,\n",
    "            padding = \"same\", \n",
    "            activation = \"relu\"\n",
    "    )\n",
    "    _fd2_1 = _d2_1(_fd1)\n",
    "    _d2_2 = keras.layers.Conv2DTranspose(\n",
    "            0x100,\n",
    "            0x3,\n",
    "            padding = \"same\", \n",
    "            activation = \"relu\"\n",
    "    )\n",
    "    _fd2_2 = _d2_2(_fd2_1)\n",
    "    _d2_3 = keras.layers.Conv2DTranspose(\n",
    "            0x100,\n",
    "            0x3,\n",
    "            padding = \"same\", \n",
    "            activation = \"relu\"\n",
    "    )\n",
    "    _fd2_3 = _d2_3(_fd2_2)\n",
    "    _d2_4 = keras.layers.Conv2DTranspose(\n",
    "            0x80,\n",
    "            0x3,\n",
    "            padding = \"same\", \n",
    "            activation = \"relu\"\n",
    "    )\n",
    "    _fd2_4 = _d2_4(_fd2_3)\n",
    "    _d2_u = keras.layers.UpSampling2D(0x2)\n",
    "    _fd2 = _d2_u(_fd2_4)\n",
    "    _d3_1 = keras.layers.Conv2DTranspose(\n",
    "            0x80,\n",
    "            0x3,\n",
    "            padding = \"same\", \n",
    "            activation = \"relu\"\n",
    "    )\n",
    "    _fd3_1 = _d3_1(_fd2)\n",
    "    _d3_2 = keras.layers.Conv2DTranspose(\n",
    "            0x40,\n",
    "            0x3,\n",
    "            padding = \"same\", \n",
    "            activation = \"relu\"\n",
    "    )\n",
    "    _fd3_2 = _d3_2(_fd3_1)\n",
    "    _d3_u = keras.layers.UpSampling2D(0x2)\n",
    "    _fd3 = _d3_u(_fd3_2)\n",
    "    _d4_1 = keras.layers.Conv2DTranspose(\n",
    "            0x40,\n",
    "            0x3,\n",
    "            padding = \"same\", \n",
    "            activation = \"relu\"\n",
    "    )\n",
    "    _fd4_1 = _d4_1(_fd3)\n",
    "    _d4_2 = keras.layers.Conv2DTranspose(\n",
    "            0x3,\n",
    "            0x3,\n",
    "            padding = \"same\", \n",
    "            activation = \"relu\"\n",
    "    )\n",
    "    _fd4_2 = _d4_2(_fd4_1)\n",
    "    return _fd4_2\n"
   ]
  },
  {
   "cell_type": "code",
   "execution_count": 4,
   "metadata": {
    "scrolled": true
   },
   "outputs": [],
   "source": [
    "#Encoder\n",
    "\n",
    "ec = encode_c\n",
    "es = encode_s\n",
    "\n",
    "# AdaIN\n",
    "# def post_process(x):\n",
    "#     eps = 1.0e-06\n",
    "#     c0 = x[0]\n",
    "#     s0 = x[1]\n",
    "#     uc, vc = tf.nn.moments(c0, axes = (0x1, 0x2), keep_dims = True)\n",
    "#     us, vs = tf.nn.moments(s0, axes = (0x1, 0x2), keep_dims = True)\n",
    "#     sc, ss = tf.sqrt(vc + eps), tf.sqrt(vs + eps)\n",
    "#     nc =  ss * (c0 - uc) / sc + us\n",
    "#     return nc\n",
    "    \n",
    "eps = 1.0e-06\n",
    "c0 = ec\n",
    "s0 = es\n",
    "uc, vc = tf.nn.moments(c0, axes = (0x1, 0x2), keepdims = True)\n",
    "us, vs = tf.nn.moments(s0, axes = (0x1, 0x2), keepdims = True)\n",
    "sc, ss = tf.sqrt(vc + eps), tf.sqrt(vs + eps)\n",
    "nc =  ss * (c0 - uc) / sc + us\n",
    "# layer = keras.layers.Lambda(post_process)\n",
    "# output = layer([mdl_c.output, mdl_s.output])\n",
    "\n",
    "# nc\n",
    "out = decoder(nc, input_c, input_s)\n",
    "# out = _decoder.output[-1]\n",
    "# Clip\n",
    "output = tf.clip_by_value(out, _tfV19Lo, _tfV19Hi)"
   ]
  },
  {
   "cell_type": "code",
   "execution_count": 5,
   "metadata": {
    "scrolled": true
   },
   "outputs": [
    {
     "name": "stdout",
     "output_type": "stream",
     "text": [
      "Unsuccessful TensorSliceReader constructor: Failed to get matching files on ./mdl_L/ckpt_8: Not found: ./mdl_L; No such file or directory\n"
     ]
    }
   ],
   "source": [
    "from tensorflow.python.tools.inspect_checkpoint import print_tensors_in_checkpoint_file\n",
    "ckp = tf.train.latest_checkpoint(\"./mdl_L/\")\n",
    "print_tensors_in_checkpoint_file(file_name='./mdl_L/ckpt_8', tensor_name='', all_tensors=False)"
   ]
  },
  {
   "cell_type": "code",
   "execution_count": 6,
   "metadata": {},
   "outputs": [],
   "source": [
    "names = \"\"\"\n",
    "layer_with_weights-0/bias/.ATTRIBUTES/VARIABLE_VALUE (DT_FLOAT) [256]\n",
    "layer_with_weights-0/kernel/.ATTRIBUTES/VARIABLE_VALUE (DT_FLOAT) [3,3,256,512]\n",
    "layer_with_weights-1/bias/.ATTRIBUTES/VARIABLE_VALUE (DT_FLOAT) [256]\n",
    "layer_with_weights-1/kernel/.ATTRIBUTES/VARIABLE_VALUE (DT_FLOAT) [3,3,256,256]\n",
    "layer_with_weights-2/bias/.ATTRIBUTES/VARIABLE_VALUE (DT_FLOAT) [256]\n",
    "layer_with_weights-2/kernel/.ATTRIBUTES/VARIABLE_VALUE (DT_FLOAT) [3,3,256,256]\n",
    "layer_with_weights-3/bias/.ATTRIBUTES/VARIABLE_VALUE (DT_FLOAT) [256]\n",
    "layer_with_weights-3/kernel/.ATTRIBUTES/VARIABLE_VALUE (DT_FLOAT) [3,3,256,256]\n",
    "layer_with_weights-4/bias/.ATTRIBUTES/VARIABLE_VALUE (DT_FLOAT) [128]\n",
    "layer_with_weights-4/kernel/.ATTRIBUTES/VARIABLE_VALUE (DT_FLOAT) [3,3,128,256]\n",
    "layer_with_weights-5/bias/.ATTRIBUTES/VARIABLE_VALUE (DT_FLOAT) [128]\n",
    "layer_with_weights-5/kernel/.ATTRIBUTES/VARIABLE_VALUE (DT_FLOAT) [3,3,128,128]\n",
    "layer_with_weights-6/bias/.ATTRIBUTES/VARIABLE_VALUE (DT_FLOAT) [64]\n",
    "layer_with_weights-6/kernel/.ATTRIBUTES/VARIABLE_VALUE (DT_FLOAT) [3,3,64,128]\n",
    "layer_with_weights-7/bias/.ATTRIBUTES/VARIABLE_VALUE (DT_FLOAT) [64]\n",
    "layer_with_weights-7/kernel/.ATTRIBUTES/VARIABLE_VALUE (DT_FLOAT) [3,3,64,64]\n",
    "layer_with_weights-8/bias/.ATTRIBUTES/VARIABLE_VALUE (DT_FLOAT) [3]\n",
    "layer_with_weights-8/kernel/.ATTRIBUTES/VARIABLE_VALUE (DT_FLOAT) [3,3,3,64]\n",
    "\"\"\"\n"
   ]
  },
  {
   "cell_type": "code",
   "execution_count": 7,
   "metadata": {},
   "outputs": [
    {
     "name": "stderr",
     "output_type": "stream",
     "text": [
      "WARNING: Logging before flag parsing goes to stderr.\n",
      "W0827 20:03:30.543665 139687638329088 deprecation.py:506] From /home/kjliu/anaconda3/envs/tensorflow2.0/lib/python3.6/site-packages/tensorflow/python/ops/init_ops.py:1257: calling VarianceScaling.__init__ (from tensorflow.python.ops.init_ops) with dtype is deprecated and will be removed in a future version.\n",
      "Instructions for updating:\n",
      "Call initializer instance with the dtype argument instead of passing it to the constructor\n"
     ]
    },
    {
     "name": "stdout",
     "output_type": "stream",
     "text": [
      "layer_with_weights-0/kernel/.ATTRIBUTES/VARIABLE_VALUE <tf.Variable 'conv2d_transpose/kernel:0' shape=(3, 3, 256, 512) dtype=float32>\n",
      "layer_with_weights-1/kernel/.ATTRIBUTES/VARIABLE_VALUE <tf.Variable 'conv2d_transpose_1/kernel:0' shape=(3, 3, 256, 256) dtype=float32>\n",
      "layer_with_weights-2/kernel/.ATTRIBUTES/VARIABLE_VALUE <tf.Variable 'conv2d_transpose_2/kernel:0' shape=(3, 3, 256, 256) dtype=float32>\n",
      "layer_with_weights-3/kernel/.ATTRIBUTES/VARIABLE_VALUE <tf.Variable 'conv2d_transpose_3/kernel:0' shape=(3, 3, 256, 256) dtype=float32>\n",
      "layer_with_weights-4/kernel/.ATTRIBUTES/VARIABLE_VALUE <tf.Variable 'conv2d_transpose_4/kernel:0' shape=(3, 3, 128, 256) dtype=float32>\n",
      "layer_with_weights-5/kernel/.ATTRIBUTES/VARIABLE_VALUE <tf.Variable 'conv2d_transpose_5/kernel:0' shape=(3, 3, 128, 128) dtype=float32>\n",
      "layer_with_weights-6/kernel/.ATTRIBUTES/VARIABLE_VALUE <tf.Variable 'conv2d_transpose_6/kernel:0' shape=(3, 3, 64, 128) dtype=float32>\n",
      "layer_with_weights-7/kernel/.ATTRIBUTES/VARIABLE_VALUE <tf.Variable 'conv2d_transpose_7/kernel:0' shape=(3, 3, 64, 64) dtype=float32>\n",
      "layer_with_weights-8/kernel/.ATTRIBUTES/VARIABLE_VALUE <tf.Variable 'conv2d_transpose_8/kernel:0' shape=(3, 3, 3, 64) dtype=float32>\n",
      "layer_with_weights-0/bias/.ATTRIBUTES/VARIABLE_VALUE <tf.Variable 'conv2d_transpose/bias:0' shape=(256,) dtype=float32>\n",
      "layer_with_weights-1/bias/.ATTRIBUTES/VARIABLE_VALUE <tf.Variable 'conv2d_transpose_1/bias:0' shape=(256,) dtype=float32>\n",
      "layer_with_weights-2/bias/.ATTRIBUTES/VARIABLE_VALUE <tf.Variable 'conv2d_transpose_2/bias:0' shape=(256,) dtype=float32>\n",
      "layer_with_weights-3/bias/.ATTRIBUTES/VARIABLE_VALUE <tf.Variable 'conv2d_transpose_3/bias:0' shape=(256,) dtype=float32>\n",
      "layer_with_weights-4/bias/.ATTRIBUTES/VARIABLE_VALUE <tf.Variable 'conv2d_transpose_4/bias:0' shape=(128,) dtype=float32>\n",
      "layer_with_weights-5/bias/.ATTRIBUTES/VARIABLE_VALUE <tf.Variable 'conv2d_transpose_5/bias:0' shape=(128,) dtype=float32>\n",
      "layer_with_weights-6/bias/.ATTRIBUTES/VARIABLE_VALUE <tf.Variable 'conv2d_transpose_6/bias:0' shape=(64,) dtype=float32>\n",
      "layer_with_weights-7/bias/.ATTRIBUTES/VARIABLE_VALUE <tf.Variable 'conv2d_transpose_7/bias:0' shape=(64,) dtype=float32>\n",
      "layer_with_weights-8/bias/.ATTRIBUTES/VARIABLE_VALUE <tf.Variable 'conv2d_transpose_8/bias:0' shape=(3,) dtype=float32>\n"
     ]
    }
   ],
   "source": [
    "assign_weights = []\n",
    "with tf.compat.v1.variable_scope('', reuse=tf.compat.v1.AUTO_REUSE):\n",
    "    var_list1 = [name for name in np.array(names.split()).reshape([-1, 3])[:,0] if 'kernel' in name]\n",
    "    var_list2 = [v for v in tf.compat.v1.trainable_variables() if 'conv2d_transpose' in v.name and 'kernel' in v.name]\n",
    "    for name, v in zip(var_list1, var_list2):\n",
    "        print(name, v)\n",
    "        v2 = tf.compat.v1.get_variable(name=name, shape=v.shape)\n",
    "        assign_weights.append(v.assign(v2))\n",
    "    var_list1 = [name for name in np.array(names.split()).reshape([-1, 3])[:,0] if 'bias' in name]\n",
    "    var_list2 = [v for v in tf.compat.v1.trainable_variables() if 'conv2d_transpose' in v.name and 'bias' in v.name]\n",
    "    for name, v in zip(var_list1, var_list2):\n",
    "        print(name, v)\n",
    "        v2 = tf.compat.v1.get_variable(name=name, shape=v.shape)\n",
    "        assign_weights.append(v.assign(v2))"
   ]
  },
  {
   "cell_type": "code",
   "execution_count": 8,
   "metadata": {},
   "outputs": [],
   "source": [
    "# load checkpoint\n",
    "ckp = tf.train.latest_checkpoint(\"./mdl_L/\")\n",
    "var_list1 = [v for v in tf.compat.v1.trainable_variables() if 'layer_with_weights' in v.name]\n",
    "if ckp : \n",
    "    saver = tf.compat.v1.train.Saver(var_list=var_list1)\n",
    "    print('load checkpoint...')\n",
    "    saver.restore(tf.compat.v1.keras.backend.get_session(), ckp)\n",
    "    tf.compat.v1.keras.backend.get_session().run(assign_weights)"
   ]
  },
  {
   "cell_type": "code",
   "execution_count": 9,
   "metadata": {},
   "outputs": [
    {
     "name": "stderr",
     "output_type": "stream",
     "text": [
      "W0827 20:03:30.772812 139687638329088 deprecation.py:323] From <ipython-input-9-215941cbd285>:1: build_tensor_info (from tensorflow.python.saved_model.utils_impl) is deprecated and will be removed in a future version.\n",
      "Instructions for updating:\n",
      "This function will only be available through the v1 compatibility library as tf.compat.v1.saved_model.utils.build_tensor_info or tf.compat.v1.saved_model.build_tensor_info.\n"
     ]
    }
   ],
   "source": [
    "tensor_info_c = tf.compat.v1.saved_model.build_tensor_info(input_c)\n",
    "tensor_info_s = tf.compat.v1.saved_model.build_tensor_info(input_s)\n",
    "tensor_info_output = tf.compat.v1.saved_model.build_tensor_info(output)\n",
    "add_variable = False\n",
    "\n",
    "# tensor to pass in base64\n",
    "img = tf.cast(output, tf.int32)\n",
    "# base64_img = tf.strings.as_string(output)\n",
    "# base64_img = tf.reshape(base64_img, [-1])\n",
    "# base64_img = tf.strings.reduce_join(base64_img, separator=',')\n",
    "# base64_img = tf.io.encode_base64(base64_img)\n",
    "# shape = tf.strings.as_string(output.shape[1:])\n",
    "# shape = tf.strings.reduce_join(shape, separator=',')\n",
    "# msg = tf.strings.join([shape, base64_img], separator='|')\n",
    "\n",
    "# map method name to tensor info\n",
    "map_dict = {}\n",
    "map_dict[output.name] = tf.compat.v1.saved_model.build_tensor_info(img)\n",
    "##################################################################\n",
    "\n",
    "# signature method name must be CLASSIFY_METHOD_NAME, PREDICT_METHOD_NAME or REGRESS_METHOD_NAME, \n",
    "# they have different request format. please refer to https://www.tensorflow.org/tfx/serving/signature_defs \n",
    "# and https://www.tensorflow.org/tfx/serving/api_rest/    \n",
    "signature = (\n",
    "    tf.compat.v1.saved_model.signature_def_utils.build_signature_def(\n",
    "        inputs={'input_c': tensor_info_c, 'input_s': tensor_info_s,},\n",
    "        outputs=map_dict,\n",
    "        method_name=tf.compat.v1.saved_model.signature_constants.PREDICT_METHOD_NAME \n",
    "    )\n",
    ")"
   ]
  },
  {
   "cell_type": "code",
   "execution_count": 12,
   "metadata": {},
   "outputs": [
    {
     "ename": "FailedPreconditionError",
     "evalue": "Error while reading resource variable layer_with_weights-8/kernel/.ATTRIBUTES/VARIABLE_VALUE from Container: localhost. This could mean that the variable was uninitialized. Not found: Resource localhost/layer_with_weights-8/kernel/.ATTRIBUTES/VARIABLE_VALUE/N10tensorflow3VarE does not exist.\n\t [[node layer_with_weights-8/kernel/.ATTRIBUTES/VARIABLE_VALUE/Read/ReadVariableOp (defined at <ipython-input-7-bf76f58b9d02>:7) ]]\n\t [[block2_conv2/bias/Read/ReadVariableOp/_377]]\n\nOriginal stack trace for 'layer_with_weights-8/kernel/.ATTRIBUTES/VARIABLE_VALUE/Read/ReadVariableOp':\n  File \"/home/kjliu/anaconda3/envs/tensorflow2.0/lib/python3.6/runpy.py\", line 193, in _run_module_as_main\n    \"__main__\", mod_spec)\n  File \"/home/kjliu/anaconda3/envs/tensorflow2.0/lib/python3.6/runpy.py\", line 85, in _run_code\n    exec(code, run_globals)\n  File \"/home/kjliu/anaconda3/envs/tensorflow2.0/lib/python3.6/site-packages/ipykernel_launcher.py\", line 16, in <module>\n    app.launch_new_instance()\n  File \"/home/kjliu/anaconda3/envs/tensorflow2.0/lib/python3.6/site-packages/traitlets/config/application.py\", line 658, in launch_instance\n    app.start()\n  File \"/home/kjliu/anaconda3/envs/tensorflow2.0/lib/python3.6/site-packages/ipykernel/kernelapp.py\", line 505, in start\n    self.io_loop.start()\n  File \"/home/kjliu/anaconda3/envs/tensorflow2.0/lib/python3.6/site-packages/tornado/platform/asyncio.py\", line 148, in start\n    self.asyncio_loop.run_forever()\n  File \"/home/kjliu/anaconda3/envs/tensorflow2.0/lib/python3.6/asyncio/base_events.py\", line 438, in run_forever\n    self._run_once()\n  File \"/home/kjliu/anaconda3/envs/tensorflow2.0/lib/python3.6/asyncio/base_events.py\", line 1451, in _run_once\n    handle._run()\n  File \"/home/kjliu/anaconda3/envs/tensorflow2.0/lib/python3.6/asyncio/events.py\", line 145, in _run\n    self._callback(*self._args)\n  File \"/home/kjliu/anaconda3/envs/tensorflow2.0/lib/python3.6/site-packages/tornado/ioloop.py\", line 690, in <lambda>\n    lambda f: self._run_callback(functools.partial(callback, future))\n  File \"/home/kjliu/anaconda3/envs/tensorflow2.0/lib/python3.6/site-packages/tornado/ioloop.py\", line 743, in _run_callback\n    ret = callback()\n  File \"/home/kjliu/anaconda3/envs/tensorflow2.0/lib/python3.6/site-packages/tornado/gen.py\", line 781, in inner\n    self.run()\n  File \"/home/kjliu/anaconda3/envs/tensorflow2.0/lib/python3.6/site-packages/tornado/gen.py\", line 742, in run\n    yielded = self.gen.send(value)\n  File \"/home/kjliu/anaconda3/envs/tensorflow2.0/lib/python3.6/site-packages/ipykernel/kernelbase.py\", line 370, in dispatch_queue\n    yield self.process_one()\n  File \"/home/kjliu/anaconda3/envs/tensorflow2.0/lib/python3.6/site-packages/tornado/gen.py\", line 225, in wrapper\n    runner = Runner(result, future, yielded)\n  File \"/home/kjliu/anaconda3/envs/tensorflow2.0/lib/python3.6/site-packages/tornado/gen.py\", line 708, in __init__\n    self.run()\n  File \"/home/kjliu/anaconda3/envs/tensorflow2.0/lib/python3.6/site-packages/tornado/gen.py\", line 742, in run\n    yielded = self.gen.send(value)\n  File \"/home/kjliu/anaconda3/envs/tensorflow2.0/lib/python3.6/site-packages/ipykernel/kernelbase.py\", line 357, in process_one\n    yield gen.maybe_future(dispatch(*args))\n  File \"/home/kjliu/anaconda3/envs/tensorflow2.0/lib/python3.6/site-packages/tornado/gen.py\", line 209, in wrapper\n    yielded = next(result)\n  File \"/home/kjliu/anaconda3/envs/tensorflow2.0/lib/python3.6/site-packages/ipykernel/kernelbase.py\", line 267, in dispatch_shell\n    yield gen.maybe_future(handler(stream, idents, msg))\n  File \"/home/kjliu/anaconda3/envs/tensorflow2.0/lib/python3.6/site-packages/tornado/gen.py\", line 209, in wrapper\n    yielded = next(result)\n  File \"/home/kjliu/anaconda3/envs/tensorflow2.0/lib/python3.6/site-packages/ipykernel/kernelbase.py\", line 534, in execute_request\n    user_expressions, allow_stdin,\n  File \"/home/kjliu/anaconda3/envs/tensorflow2.0/lib/python3.6/site-packages/tornado/gen.py\", line 209, in wrapper\n    yielded = next(result)\n  File \"/home/kjliu/anaconda3/envs/tensorflow2.0/lib/python3.6/site-packages/ipykernel/ipkernel.py\", line 294, in do_execute\n    res = shell.run_cell(code, store_history=store_history, silent=silent)\n  File \"/home/kjliu/anaconda3/envs/tensorflow2.0/lib/python3.6/site-packages/ipykernel/zmqshell.py\", line 536, in run_cell\n    return super(ZMQInteractiveShell, self).run_cell(*args, **kwargs)\n  File \"/home/kjliu/anaconda3/envs/tensorflow2.0/lib/python3.6/site-packages/IPython/core/interactiveshell.py\", line 2848, in run_cell\n    raw_cell, store_history, silent, shell_futures)\n  File \"/home/kjliu/anaconda3/envs/tensorflow2.0/lib/python3.6/site-packages/IPython/core/interactiveshell.py\", line 2874, in _run_cell\n    return runner(coro)\n  File \"/home/kjliu/anaconda3/envs/tensorflow2.0/lib/python3.6/site-packages/IPython/core/async_helpers.py\", line 67, in _pseudo_sync_runner\n    coro.send(None)\n  File \"/home/kjliu/anaconda3/envs/tensorflow2.0/lib/python3.6/site-packages/IPython/core/interactiveshell.py\", line 3049, in run_cell_async\n    interactivity=interactivity, compiler=compiler, result=result)\n  File \"/home/kjliu/anaconda3/envs/tensorflow2.0/lib/python3.6/site-packages/IPython/core/interactiveshell.py\", line 3214, in run_ast_nodes\n    if (yield from self.run_code(code, result)):\n  File \"/home/kjliu/anaconda3/envs/tensorflow2.0/lib/python3.6/site-packages/IPython/core/interactiveshell.py\", line 3296, in run_code\n    exec(code_obj, self.user_global_ns, self.user_ns)\n  File \"<ipython-input-7-bf76f58b9d02>\", line 7, in <module>\n    v2 = tf.compat.v1.get_variable(name=name, shape=v.shape)\n  File \"/home/kjliu/anaconda3/envs/tensorflow2.0/lib/python3.6/site-packages/tensorflow/python/ops/variable_scope.py\", line 1482, in get_variable\n    aggregation=aggregation)\n  File \"/home/kjliu/anaconda3/envs/tensorflow2.0/lib/python3.6/site-packages/tensorflow/python/ops/variable_scope.py\", line 1223, in get_variable\n    aggregation=aggregation)\n  File \"/home/kjliu/anaconda3/envs/tensorflow2.0/lib/python3.6/site-packages/tensorflow/python/ops/variable_scope.py\", line 547, in get_variable\n    aggregation=aggregation)\n  File \"/home/kjliu/anaconda3/envs/tensorflow2.0/lib/python3.6/site-packages/tensorflow/python/ops/variable_scope.py\", line 499, in _true_getter\n    aggregation=aggregation)\n  File \"/home/kjliu/anaconda3/envs/tensorflow2.0/lib/python3.6/site-packages/tensorflow/python/ops/variable_scope.py\", line 914, in _get_single_variable\n    aggregation=aggregation)\n  File \"/home/kjliu/anaconda3/envs/tensorflow2.0/lib/python3.6/site-packages/tensorflow/python/ops/variables.py\", line 212, in __call__\n    return cls._variable_v1_call(*args, **kwargs)\n  File \"/home/kjliu/anaconda3/envs/tensorflow2.0/lib/python3.6/site-packages/tensorflow/python/ops/variables.py\", line 175, in _variable_v1_call\n    aggregation=aggregation)\n  File \"/home/kjliu/anaconda3/envs/tensorflow2.0/lib/python3.6/site-packages/tensorflow/python/ops/variables.py\", line 154, in <lambda>\n    previous_getter = lambda **kwargs: default_variable_creator(None, **kwargs)\n  File \"/home/kjliu/anaconda3/envs/tensorflow2.0/lib/python3.6/site-packages/tensorflow/python/ops/variable_scope.py\", line 2492, in default_variable_creator\n    import_scope=import_scope, distribute_strategy=distribute_strategy)\n  File \"/home/kjliu/anaconda3/envs/tensorflow2.0/lib/python3.6/site-packages/tensorflow/python/ops/variables.py\", line 216, in __call__\n    return super(VariableMetaclass, cls).__call__(*args, **kwargs)\n  File \"/home/kjliu/anaconda3/envs/tensorflow2.0/lib/python3.6/site-packages/tensorflow/python/ops/resource_variable_ops.py\", line 422, in __init__\n    constraint=constraint)\n  File \"/home/kjliu/anaconda3/envs/tensorflow2.0/lib/python3.6/site-packages/tensorflow/python/ops/resource_variable_ops.py\", line 587, in _init_from_args\n    value = self._read_variable_op()\n  File \"/home/kjliu/anaconda3/envs/tensorflow2.0/lib/python3.6/site-packages/tensorflow/python/ops/resource_variable_ops.py\", line 858, in _read_variable_op\n    self._dtype)\n  File \"/home/kjliu/anaconda3/envs/tensorflow2.0/lib/python3.6/site-packages/tensorflow/python/ops/gen_resource_variable_ops.py\", line 587, in read_variable_op\n    \"ReadVariableOp\", resource=resource, dtype=dtype, name=name)\n  File \"/home/kjliu/anaconda3/envs/tensorflow2.0/lib/python3.6/site-packages/tensorflow/python/framework/op_def_library.py\", line 800, in _apply_op_helper\n    op_def=op_def)\n  File \"/home/kjliu/anaconda3/envs/tensorflow2.0/lib/python3.6/site-packages/tensorflow/python/util/deprecation.py\", line 507, in new_func\n    return func(*args, **kwargs)\n  File \"/home/kjliu/anaconda3/envs/tensorflow2.0/lib/python3.6/site-packages/tensorflow/python/framework/ops.py\", line 3479, in create_op\n    op_def=op_def)\n  File \"/home/kjliu/anaconda3/envs/tensorflow2.0/lib/python3.6/site-packages/tensorflow/python/framework/ops.py\", line 1961, in __init__\n    self._traceback = tf_stack.extract_stack()\n",
     "output_type": "error",
     "traceback": [
      "\u001b[0;31m---------------------------------------------------------------------------\u001b[0m",
      "\u001b[0;31mFailedPreconditionError\u001b[0m                   Traceback (most recent call last)",
      "\u001b[0;32m~/anaconda3/envs/tensorflow2.0/lib/python3.6/site-packages/tensorflow/python/client/session.py\u001b[0m in \u001b[0;36m_do_call\u001b[0;34m(self, fn, *args)\u001b[0m\n\u001b[1;32m   1334\u001b[0m     \u001b[0;32mtry\u001b[0m\u001b[0;34m:\u001b[0m\u001b[0;34m\u001b[0m\u001b[0;34m\u001b[0m\u001b[0m\n\u001b[0;32m-> 1335\u001b[0;31m       \u001b[0;32mreturn\u001b[0m \u001b[0mfn\u001b[0m\u001b[0;34m(\u001b[0m\u001b[0;34m*\u001b[0m\u001b[0margs\u001b[0m\u001b[0;34m)\u001b[0m\u001b[0;34m\u001b[0m\u001b[0;34m\u001b[0m\u001b[0m\n\u001b[0m\u001b[1;32m   1336\u001b[0m     \u001b[0;32mexcept\u001b[0m \u001b[0merrors\u001b[0m\u001b[0;34m.\u001b[0m\u001b[0mOpError\u001b[0m \u001b[0;32mas\u001b[0m \u001b[0me\u001b[0m\u001b[0;34m:\u001b[0m\u001b[0;34m\u001b[0m\u001b[0;34m\u001b[0m\u001b[0m\n",
      "\u001b[0;32m~/anaconda3/envs/tensorflow2.0/lib/python3.6/site-packages/tensorflow/python/client/session.py\u001b[0m in \u001b[0;36m_run_fn\u001b[0;34m(feed_dict, fetch_list, target_list, options, run_metadata)\u001b[0m\n\u001b[1;32m   1319\u001b[0m       return self._call_tf_sessionrun(\n\u001b[0;32m-> 1320\u001b[0;31m           options, feed_dict, fetch_list, target_list, run_metadata)\n\u001b[0m\u001b[1;32m   1321\u001b[0m \u001b[0;34m\u001b[0m\u001b[0m\n",
      "\u001b[0;32m~/anaconda3/envs/tensorflow2.0/lib/python3.6/site-packages/tensorflow/python/client/session.py\u001b[0m in \u001b[0;36m_call_tf_sessionrun\u001b[0;34m(self, options, feed_dict, fetch_list, target_list, run_metadata)\u001b[0m\n\u001b[1;32m   1407\u001b[0m         \u001b[0mself\u001b[0m\u001b[0;34m.\u001b[0m\u001b[0m_session\u001b[0m\u001b[0;34m,\u001b[0m \u001b[0moptions\u001b[0m\u001b[0;34m,\u001b[0m \u001b[0mfeed_dict\u001b[0m\u001b[0;34m,\u001b[0m \u001b[0mfetch_list\u001b[0m\u001b[0;34m,\u001b[0m \u001b[0mtarget_list\u001b[0m\u001b[0;34m,\u001b[0m\u001b[0;34m\u001b[0m\u001b[0;34m\u001b[0m\u001b[0m\n\u001b[0;32m-> 1408\u001b[0;31m         run_metadata)\n\u001b[0m\u001b[1;32m   1409\u001b[0m \u001b[0;34m\u001b[0m\u001b[0m\n",
      "\u001b[0;31mFailedPreconditionError\u001b[0m: Error while reading resource variable layer_with_weights-8/kernel/.ATTRIBUTES/VARIABLE_VALUE from Container: localhost. This could mean that the variable was uninitialized. Not found: Resource localhost/layer_with_weights-8/kernel/.ATTRIBUTES/VARIABLE_VALUE/N10tensorflow3VarE does not exist.\n\t [[{{node layer_with_weights-8/kernel/.ATTRIBUTES/VARIABLE_VALUE/Read/ReadVariableOp}}]]\n\t [[block2_conv2/bias/Read/ReadVariableOp/_377]]",
      "\nDuring handling of the above exception, another exception occurred:\n",
      "\u001b[0;31mFailedPreconditionError\u001b[0m                   Traceback (most recent call last)",
      "\u001b[0;32m<ipython-input-12-508c294cece1>\u001b[0m in \u001b[0;36m<module>\u001b[0;34m\u001b[0m\n\u001b[1;32m      7\u001b[0m     \u001b[0mtf\u001b[0m\u001b[0;34m.\u001b[0m\u001b[0mcompat\u001b[0m\u001b[0;34m.\u001b[0m\u001b[0mv1\u001b[0m\u001b[0;34m.\u001b[0m\u001b[0mkeras\u001b[0m\u001b[0;34m.\u001b[0m\u001b[0mbackend\u001b[0m\u001b[0;34m.\u001b[0m\u001b[0mget_session\u001b[0m\u001b[0;34m(\u001b[0m\u001b[0;34m)\u001b[0m\u001b[0;34m,\u001b[0m \u001b[0;34m[\u001b[0m\u001b[0mtf\u001b[0m\u001b[0;34m.\u001b[0m\u001b[0mcompat\u001b[0m\u001b[0;34m.\u001b[0m\u001b[0mv1\u001b[0m\u001b[0;34m.\u001b[0m\u001b[0msaved_model\u001b[0m\u001b[0;34m.\u001b[0m\u001b[0mtag_constants\u001b[0m\u001b[0;34m.\u001b[0m\u001b[0mSERVING\u001b[0m\u001b[0;34m]\u001b[0m\u001b[0;34m,\u001b[0m\u001b[0;34m\u001b[0m\u001b[0;34m\u001b[0m\u001b[0m\n\u001b[1;32m      8\u001b[0m     \u001b[0msignature_def_map\u001b[0m\u001b[0;34m=\u001b[0m\u001b[0;34m{\u001b[0m\u001b[0;34m'style_transfer'\u001b[0m\u001b[0;34m:\u001b[0m\u001b[0msignature\u001b[0m\u001b[0;34m,\u001b[0m\u001b[0;34m}\u001b[0m\u001b[0;34m,\u001b[0m\u001b[0;34m\u001b[0m\u001b[0;34m\u001b[0m\u001b[0m\n\u001b[0;32m----> 9\u001b[0;31m     \u001b[0mstrip_default_attrs\u001b[0m\u001b[0;34m=\u001b[0m\u001b[0;32mTrue\u001b[0m\u001b[0;34m\u001b[0m\u001b[0;34m\u001b[0m\u001b[0m\n\u001b[0m\u001b[1;32m     10\u001b[0m )\n\u001b[1;32m     11\u001b[0m \u001b[0mbuilder\u001b[0m\u001b[0;34m.\u001b[0m\u001b[0msave\u001b[0m\u001b[0;34m(\u001b[0m\u001b[0;34m)\u001b[0m\u001b[0;34m\u001b[0m\u001b[0;34m\u001b[0m\u001b[0m\n",
      "\u001b[0;32m~/anaconda3/envs/tensorflow2.0/lib/python3.6/site-packages/tensorflow/python/util/deprecation.py\u001b[0m in \u001b[0;36mnew_func\u001b[0;34m(*args, **kwargs)\u001b[0m\n\u001b[1;32m    505\u001b[0m                 \u001b[0;34m'in a future version'\u001b[0m \u001b[0;32mif\u001b[0m \u001b[0mdate\u001b[0m \u001b[0;32mis\u001b[0m \u001b[0;32mNone\u001b[0m \u001b[0;32melse\u001b[0m \u001b[0;34m(\u001b[0m\u001b[0;34m'after %s'\u001b[0m \u001b[0;34m%\u001b[0m \u001b[0mdate\u001b[0m\u001b[0;34m)\u001b[0m\u001b[0;34m,\u001b[0m\u001b[0;34m\u001b[0m\u001b[0;34m\u001b[0m\u001b[0m\n\u001b[1;32m    506\u001b[0m                 instructions)\n\u001b[0;32m--> 507\u001b[0;31m       \u001b[0;32mreturn\u001b[0m \u001b[0mfunc\u001b[0m\u001b[0;34m(\u001b[0m\u001b[0;34m*\u001b[0m\u001b[0margs\u001b[0m\u001b[0;34m,\u001b[0m \u001b[0;34m**\u001b[0m\u001b[0mkwargs\u001b[0m\u001b[0;34m)\u001b[0m\u001b[0;34m\u001b[0m\u001b[0;34m\u001b[0m\u001b[0m\n\u001b[0m\u001b[1;32m    508\u001b[0m \u001b[0;34m\u001b[0m\u001b[0m\n\u001b[1;32m    509\u001b[0m     doc = _add_deprecated_arg_notice_to_docstring(\n",
      "\u001b[0;32m~/anaconda3/envs/tensorflow2.0/lib/python3.6/site-packages/tensorflow/python/saved_model/builder_impl.py\u001b[0m in \u001b[0;36madd_meta_graph_and_variables\u001b[0;34m(self, sess, tags, signature_def_map, assets_collection, legacy_init_op, clear_devices, main_op, strip_default_attrs, saver)\u001b[0m\n\u001b[1;32m    584\u001b[0m     \u001b[0;31m# SavedModel can be copied or moved, this avoids the checkpoint state to\u001b[0m\u001b[0;34m\u001b[0m\u001b[0;34m\u001b[0m\u001b[0;34m\u001b[0m\u001b[0m\n\u001b[1;32m    585\u001b[0m     \u001b[0;31m# become outdated.\u001b[0m\u001b[0;34m\u001b[0m\u001b[0;34m\u001b[0m\u001b[0;34m\u001b[0m\u001b[0m\n\u001b[0;32m--> 586\u001b[0;31m     \u001b[0msaver\u001b[0m\u001b[0;34m.\u001b[0m\u001b[0msave\u001b[0m\u001b[0;34m(\u001b[0m\u001b[0msess\u001b[0m\u001b[0;34m,\u001b[0m \u001b[0mvariables_path\u001b[0m\u001b[0;34m,\u001b[0m \u001b[0mwrite_meta_graph\u001b[0m\u001b[0;34m=\u001b[0m\u001b[0;32mFalse\u001b[0m\u001b[0;34m,\u001b[0m \u001b[0mwrite_state\u001b[0m\u001b[0;34m=\u001b[0m\u001b[0;32mFalse\u001b[0m\u001b[0;34m)\u001b[0m\u001b[0;34m\u001b[0m\u001b[0;34m\u001b[0m\u001b[0m\n\u001b[0m\u001b[1;32m    587\u001b[0m \u001b[0;34m\u001b[0m\u001b[0m\n\u001b[1;32m    588\u001b[0m     \u001b[0;31m# Export the meta graph def.\u001b[0m\u001b[0;34m\u001b[0m\u001b[0;34m\u001b[0m\u001b[0;34m\u001b[0m\u001b[0m\n",
      "\u001b[0;32m~/anaconda3/envs/tensorflow2.0/lib/python3.6/site-packages/tensorflow/python/training/saver.py\u001b[0m in \u001b[0;36msave\u001b[0;34m(self, sess, save_path, global_step, latest_filename, meta_graph_suffix, write_meta_graph, write_state, strip_default_attrs, save_debug_info)\u001b[0m\n\u001b[1;32m   1190\u001b[0m               \"Parent directory of {} doesn't exist, can't save.\".format(\n\u001b[1;32m   1191\u001b[0m                   save_path))\n\u001b[0;32m-> 1192\u001b[0;31m         \u001b[0;32mraise\u001b[0m \u001b[0mexc\u001b[0m\u001b[0;34m\u001b[0m\u001b[0;34m\u001b[0m\u001b[0m\n\u001b[0m\u001b[1;32m   1193\u001b[0m \u001b[0;34m\u001b[0m\u001b[0m\n\u001b[1;32m   1194\u001b[0m     \u001b[0;32mif\u001b[0m \u001b[0mwrite_meta_graph\u001b[0m\u001b[0;34m:\u001b[0m\u001b[0;34m\u001b[0m\u001b[0;34m\u001b[0m\u001b[0m\n",
      "\u001b[0;32m~/anaconda3/envs/tensorflow2.0/lib/python3.6/site-packages/tensorflow/python/training/saver.py\u001b[0m in \u001b[0;36msave\u001b[0;34m(self, sess, save_path, global_step, latest_filename, meta_graph_suffix, write_meta_graph, write_state, strip_default_attrs, save_debug_info)\u001b[0m\n\u001b[1;32m   1173\u001b[0m           model_checkpoint_path = sess.run(\n\u001b[1;32m   1174\u001b[0m               \u001b[0mself\u001b[0m\u001b[0;34m.\u001b[0m\u001b[0msaver_def\u001b[0m\u001b[0;34m.\u001b[0m\u001b[0msave_tensor_name\u001b[0m\u001b[0;34m,\u001b[0m\u001b[0;34m\u001b[0m\u001b[0;34m\u001b[0m\u001b[0m\n\u001b[0;32m-> 1175\u001b[0;31m               {self.saver_def.filename_tensor_name: checkpoint_file})\n\u001b[0m\u001b[1;32m   1176\u001b[0m \u001b[0;34m\u001b[0m\u001b[0m\n\u001b[1;32m   1177\u001b[0m         \u001b[0mmodel_checkpoint_path\u001b[0m \u001b[0;34m=\u001b[0m \u001b[0mcompat\u001b[0m\u001b[0;34m.\u001b[0m\u001b[0mas_str\u001b[0m\u001b[0;34m(\u001b[0m\u001b[0mmodel_checkpoint_path\u001b[0m\u001b[0;34m)\u001b[0m\u001b[0;34m\u001b[0m\u001b[0;34m\u001b[0m\u001b[0m\n",
      "\u001b[0;32m~/anaconda3/envs/tensorflow2.0/lib/python3.6/site-packages/tensorflow/python/client/session.py\u001b[0m in \u001b[0;36mrun\u001b[0;34m(self, fetches, feed_dict, options, run_metadata)\u001b[0m\n\u001b[1;32m    928\u001b[0m     \u001b[0;32mtry\u001b[0m\u001b[0;34m:\u001b[0m\u001b[0;34m\u001b[0m\u001b[0;34m\u001b[0m\u001b[0m\n\u001b[1;32m    929\u001b[0m       result = self._run(None, fetches, feed_dict, options_ptr,\n\u001b[0;32m--> 930\u001b[0;31m                          run_metadata_ptr)\n\u001b[0m\u001b[1;32m    931\u001b[0m       \u001b[0;32mif\u001b[0m \u001b[0mrun_metadata\u001b[0m\u001b[0;34m:\u001b[0m\u001b[0;34m\u001b[0m\u001b[0;34m\u001b[0m\u001b[0m\n\u001b[1;32m    932\u001b[0m         \u001b[0mproto_data\u001b[0m \u001b[0;34m=\u001b[0m \u001b[0mtf_session\u001b[0m\u001b[0;34m.\u001b[0m\u001b[0mTF_GetBuffer\u001b[0m\u001b[0;34m(\u001b[0m\u001b[0mrun_metadata_ptr\u001b[0m\u001b[0;34m)\u001b[0m\u001b[0;34m\u001b[0m\u001b[0;34m\u001b[0m\u001b[0m\n",
      "\u001b[0;32m~/anaconda3/envs/tensorflow2.0/lib/python3.6/site-packages/tensorflow/python/client/session.py\u001b[0m in \u001b[0;36m_run\u001b[0;34m(self, handle, fetches, feed_dict, options, run_metadata)\u001b[0m\n\u001b[1;32m   1151\u001b[0m     \u001b[0;32mif\u001b[0m \u001b[0mfinal_fetches\u001b[0m \u001b[0;32mor\u001b[0m \u001b[0mfinal_targets\u001b[0m \u001b[0;32mor\u001b[0m \u001b[0;34m(\u001b[0m\u001b[0mhandle\u001b[0m \u001b[0;32mand\u001b[0m \u001b[0mfeed_dict_tensor\u001b[0m\u001b[0;34m)\u001b[0m\u001b[0;34m:\u001b[0m\u001b[0;34m\u001b[0m\u001b[0;34m\u001b[0m\u001b[0m\n\u001b[1;32m   1152\u001b[0m       results = self._do_run(handle, final_targets, final_fetches,\n\u001b[0;32m-> 1153\u001b[0;31m                              feed_dict_tensor, options, run_metadata)\n\u001b[0m\u001b[1;32m   1154\u001b[0m     \u001b[0;32melse\u001b[0m\u001b[0;34m:\u001b[0m\u001b[0;34m\u001b[0m\u001b[0;34m\u001b[0m\u001b[0m\n\u001b[1;32m   1155\u001b[0m       \u001b[0mresults\u001b[0m \u001b[0;34m=\u001b[0m \u001b[0;34m[\u001b[0m\u001b[0;34m]\u001b[0m\u001b[0;34m\u001b[0m\u001b[0;34m\u001b[0m\u001b[0m\n",
      "\u001b[0;32m~/anaconda3/envs/tensorflow2.0/lib/python3.6/site-packages/tensorflow/python/client/session.py\u001b[0m in \u001b[0;36m_do_run\u001b[0;34m(self, handle, target_list, fetch_list, feed_dict, options, run_metadata)\u001b[0m\n\u001b[1;32m   1327\u001b[0m     \u001b[0;32mif\u001b[0m \u001b[0mhandle\u001b[0m \u001b[0;32mis\u001b[0m \u001b[0;32mNone\u001b[0m\u001b[0;34m:\u001b[0m\u001b[0;34m\u001b[0m\u001b[0;34m\u001b[0m\u001b[0m\n\u001b[1;32m   1328\u001b[0m       return self._do_call(_run_fn, feeds, fetches, targets, options,\n\u001b[0;32m-> 1329\u001b[0;31m                            run_metadata)\n\u001b[0m\u001b[1;32m   1330\u001b[0m     \u001b[0;32melse\u001b[0m\u001b[0;34m:\u001b[0m\u001b[0;34m\u001b[0m\u001b[0;34m\u001b[0m\u001b[0m\n\u001b[1;32m   1331\u001b[0m       \u001b[0;32mreturn\u001b[0m \u001b[0mself\u001b[0m\u001b[0;34m.\u001b[0m\u001b[0m_do_call\u001b[0m\u001b[0;34m(\u001b[0m\u001b[0m_prun_fn\u001b[0m\u001b[0;34m,\u001b[0m \u001b[0mhandle\u001b[0m\u001b[0;34m,\u001b[0m \u001b[0mfeeds\u001b[0m\u001b[0;34m,\u001b[0m \u001b[0mfetches\u001b[0m\u001b[0;34m)\u001b[0m\u001b[0;34m\u001b[0m\u001b[0;34m\u001b[0m\u001b[0m\n",
      "\u001b[0;32m~/anaconda3/envs/tensorflow2.0/lib/python3.6/site-packages/tensorflow/python/client/session.py\u001b[0m in \u001b[0;36m_do_call\u001b[0;34m(self, fn, *args)\u001b[0m\n\u001b[1;32m   1347\u001b[0m           \u001b[0;32mpass\u001b[0m\u001b[0;34m\u001b[0m\u001b[0;34m\u001b[0m\u001b[0m\n\u001b[1;32m   1348\u001b[0m       \u001b[0mmessage\u001b[0m \u001b[0;34m=\u001b[0m \u001b[0merror_interpolation\u001b[0m\u001b[0;34m.\u001b[0m\u001b[0minterpolate\u001b[0m\u001b[0;34m(\u001b[0m\u001b[0mmessage\u001b[0m\u001b[0;34m,\u001b[0m \u001b[0mself\u001b[0m\u001b[0;34m.\u001b[0m\u001b[0m_graph\u001b[0m\u001b[0;34m)\u001b[0m\u001b[0;34m\u001b[0m\u001b[0;34m\u001b[0m\u001b[0m\n\u001b[0;32m-> 1349\u001b[0;31m       \u001b[0;32mraise\u001b[0m \u001b[0mtype\u001b[0m\u001b[0;34m(\u001b[0m\u001b[0me\u001b[0m\u001b[0;34m)\u001b[0m\u001b[0;34m(\u001b[0m\u001b[0mnode_def\u001b[0m\u001b[0;34m,\u001b[0m \u001b[0mop\u001b[0m\u001b[0;34m,\u001b[0m \u001b[0mmessage\u001b[0m\u001b[0;34m)\u001b[0m\u001b[0;34m\u001b[0m\u001b[0;34m\u001b[0m\u001b[0m\n\u001b[0m\u001b[1;32m   1350\u001b[0m \u001b[0;34m\u001b[0m\u001b[0m\n\u001b[1;32m   1351\u001b[0m   \u001b[0;32mdef\u001b[0m \u001b[0m_extend_graph\u001b[0m\u001b[0;34m(\u001b[0m\u001b[0mself\u001b[0m\u001b[0;34m)\u001b[0m\u001b[0;34m:\u001b[0m\u001b[0;34m\u001b[0m\u001b[0;34m\u001b[0m\u001b[0m\n",
      "\u001b[0;31mFailedPreconditionError\u001b[0m: Error while reading resource variable layer_with_weights-8/kernel/.ATTRIBUTES/VARIABLE_VALUE from Container: localhost. This could mean that the variable was uninitialized. Not found: Resource localhost/layer_with_weights-8/kernel/.ATTRIBUTES/VARIABLE_VALUE/N10tensorflow3VarE does not exist.\n\t [[node layer_with_weights-8/kernel/.ATTRIBUTES/VARIABLE_VALUE/Read/ReadVariableOp (defined at <ipython-input-7-bf76f58b9d02>:7) ]]\n\t [[block2_conv2/bias/Read/ReadVariableOp/_377]]\n\nOriginal stack trace for 'layer_with_weights-8/kernel/.ATTRIBUTES/VARIABLE_VALUE/Read/ReadVariableOp':\n  File \"/home/kjliu/anaconda3/envs/tensorflow2.0/lib/python3.6/runpy.py\", line 193, in _run_module_as_main\n    \"__main__\", mod_spec)\n  File \"/home/kjliu/anaconda3/envs/tensorflow2.0/lib/python3.6/runpy.py\", line 85, in _run_code\n    exec(code, run_globals)\n  File \"/home/kjliu/anaconda3/envs/tensorflow2.0/lib/python3.6/site-packages/ipykernel_launcher.py\", line 16, in <module>\n    app.launch_new_instance()\n  File \"/home/kjliu/anaconda3/envs/tensorflow2.0/lib/python3.6/site-packages/traitlets/config/application.py\", line 658, in launch_instance\n    app.start()\n  File \"/home/kjliu/anaconda3/envs/tensorflow2.0/lib/python3.6/site-packages/ipykernel/kernelapp.py\", line 505, in start\n    self.io_loop.start()\n  File \"/home/kjliu/anaconda3/envs/tensorflow2.0/lib/python3.6/site-packages/tornado/platform/asyncio.py\", line 148, in start\n    self.asyncio_loop.run_forever()\n  File \"/home/kjliu/anaconda3/envs/tensorflow2.0/lib/python3.6/asyncio/base_events.py\", line 438, in run_forever\n    self._run_once()\n  File \"/home/kjliu/anaconda3/envs/tensorflow2.0/lib/python3.6/asyncio/base_events.py\", line 1451, in _run_once\n    handle._run()\n  File \"/home/kjliu/anaconda3/envs/tensorflow2.0/lib/python3.6/asyncio/events.py\", line 145, in _run\n    self._callback(*self._args)\n  File \"/home/kjliu/anaconda3/envs/tensorflow2.0/lib/python3.6/site-packages/tornado/ioloop.py\", line 690, in <lambda>\n    lambda f: self._run_callback(functools.partial(callback, future))\n  File \"/home/kjliu/anaconda3/envs/tensorflow2.0/lib/python3.6/site-packages/tornado/ioloop.py\", line 743, in _run_callback\n    ret = callback()\n  File \"/home/kjliu/anaconda3/envs/tensorflow2.0/lib/python3.6/site-packages/tornado/gen.py\", line 781, in inner\n    self.run()\n  File \"/home/kjliu/anaconda3/envs/tensorflow2.0/lib/python3.6/site-packages/tornado/gen.py\", line 742, in run\n    yielded = self.gen.send(value)\n  File \"/home/kjliu/anaconda3/envs/tensorflow2.0/lib/python3.6/site-packages/ipykernel/kernelbase.py\", line 370, in dispatch_queue\n    yield self.process_one()\n  File \"/home/kjliu/anaconda3/envs/tensorflow2.0/lib/python3.6/site-packages/tornado/gen.py\", line 225, in wrapper\n    runner = Runner(result, future, yielded)\n  File \"/home/kjliu/anaconda3/envs/tensorflow2.0/lib/python3.6/site-packages/tornado/gen.py\", line 708, in __init__\n    self.run()\n  File \"/home/kjliu/anaconda3/envs/tensorflow2.0/lib/python3.6/site-packages/tornado/gen.py\", line 742, in run\n    yielded = self.gen.send(value)\n  File \"/home/kjliu/anaconda3/envs/tensorflow2.0/lib/python3.6/site-packages/ipykernel/kernelbase.py\", line 357, in process_one\n    yield gen.maybe_future(dispatch(*args))\n  File \"/home/kjliu/anaconda3/envs/tensorflow2.0/lib/python3.6/site-packages/tornado/gen.py\", line 209, in wrapper\n    yielded = next(result)\n  File \"/home/kjliu/anaconda3/envs/tensorflow2.0/lib/python3.6/site-packages/ipykernel/kernelbase.py\", line 267, in dispatch_shell\n    yield gen.maybe_future(handler(stream, idents, msg))\n  File \"/home/kjliu/anaconda3/envs/tensorflow2.0/lib/python3.6/site-packages/tornado/gen.py\", line 209, in wrapper\n    yielded = next(result)\n  File \"/home/kjliu/anaconda3/envs/tensorflow2.0/lib/python3.6/site-packages/ipykernel/kernelbase.py\", line 534, in execute_request\n    user_expressions, allow_stdin,\n  File \"/home/kjliu/anaconda3/envs/tensorflow2.0/lib/python3.6/site-packages/tornado/gen.py\", line 209, in wrapper\n    yielded = next(result)\n  File \"/home/kjliu/anaconda3/envs/tensorflow2.0/lib/python3.6/site-packages/ipykernel/ipkernel.py\", line 294, in do_execute\n    res = shell.run_cell(code, store_history=store_history, silent=silent)\n  File \"/home/kjliu/anaconda3/envs/tensorflow2.0/lib/python3.6/site-packages/ipykernel/zmqshell.py\", line 536, in run_cell\n    return super(ZMQInteractiveShell, self).run_cell(*args, **kwargs)\n  File \"/home/kjliu/anaconda3/envs/tensorflow2.0/lib/python3.6/site-packages/IPython/core/interactiveshell.py\", line 2848, in run_cell\n    raw_cell, store_history, silent, shell_futures)\n  File \"/home/kjliu/anaconda3/envs/tensorflow2.0/lib/python3.6/site-packages/IPython/core/interactiveshell.py\", line 2874, in _run_cell\n    return runner(coro)\n  File \"/home/kjliu/anaconda3/envs/tensorflow2.0/lib/python3.6/site-packages/IPython/core/async_helpers.py\", line 67, in _pseudo_sync_runner\n    coro.send(None)\n  File \"/home/kjliu/anaconda3/envs/tensorflow2.0/lib/python3.6/site-packages/IPython/core/interactiveshell.py\", line 3049, in run_cell_async\n    interactivity=interactivity, compiler=compiler, result=result)\n  File \"/home/kjliu/anaconda3/envs/tensorflow2.0/lib/python3.6/site-packages/IPython/core/interactiveshell.py\", line 3214, in run_ast_nodes\n    if (yield from self.run_code(code, result)):\n  File \"/home/kjliu/anaconda3/envs/tensorflow2.0/lib/python3.6/site-packages/IPython/core/interactiveshell.py\", line 3296, in run_code\n    exec(code_obj, self.user_global_ns, self.user_ns)\n  File \"<ipython-input-7-bf76f58b9d02>\", line 7, in <module>\n    v2 = tf.compat.v1.get_variable(name=name, shape=v.shape)\n  File \"/home/kjliu/anaconda3/envs/tensorflow2.0/lib/python3.6/site-packages/tensorflow/python/ops/variable_scope.py\", line 1482, in get_variable\n    aggregation=aggregation)\n  File \"/home/kjliu/anaconda3/envs/tensorflow2.0/lib/python3.6/site-packages/tensorflow/python/ops/variable_scope.py\", line 1223, in get_variable\n    aggregation=aggregation)\n  File \"/home/kjliu/anaconda3/envs/tensorflow2.0/lib/python3.6/site-packages/tensorflow/python/ops/variable_scope.py\", line 547, in get_variable\n    aggregation=aggregation)\n  File \"/home/kjliu/anaconda3/envs/tensorflow2.0/lib/python3.6/site-packages/tensorflow/python/ops/variable_scope.py\", line 499, in _true_getter\n    aggregation=aggregation)\n  File \"/home/kjliu/anaconda3/envs/tensorflow2.0/lib/python3.6/site-packages/tensorflow/python/ops/variable_scope.py\", line 914, in _get_single_variable\n    aggregation=aggregation)\n  File \"/home/kjliu/anaconda3/envs/tensorflow2.0/lib/python3.6/site-packages/tensorflow/python/ops/variables.py\", line 212, in __call__\n    return cls._variable_v1_call(*args, **kwargs)\n  File \"/home/kjliu/anaconda3/envs/tensorflow2.0/lib/python3.6/site-packages/tensorflow/python/ops/variables.py\", line 175, in _variable_v1_call\n    aggregation=aggregation)\n  File \"/home/kjliu/anaconda3/envs/tensorflow2.0/lib/python3.6/site-packages/tensorflow/python/ops/variables.py\", line 154, in <lambda>\n    previous_getter = lambda **kwargs: default_variable_creator(None, **kwargs)\n  File \"/home/kjliu/anaconda3/envs/tensorflow2.0/lib/python3.6/site-packages/tensorflow/python/ops/variable_scope.py\", line 2492, in default_variable_creator\n    import_scope=import_scope, distribute_strategy=distribute_strategy)\n  File \"/home/kjliu/anaconda3/envs/tensorflow2.0/lib/python3.6/site-packages/tensorflow/python/ops/variables.py\", line 216, in __call__\n    return super(VariableMetaclass, cls).__call__(*args, **kwargs)\n  File \"/home/kjliu/anaconda3/envs/tensorflow2.0/lib/python3.6/site-packages/tensorflow/python/ops/resource_variable_ops.py\", line 422, in __init__\n    constraint=constraint)\n  File \"/home/kjliu/anaconda3/envs/tensorflow2.0/lib/python3.6/site-packages/tensorflow/python/ops/resource_variable_ops.py\", line 587, in _init_from_args\n    value = self._read_variable_op()\n  File \"/home/kjliu/anaconda3/envs/tensorflow2.0/lib/python3.6/site-packages/tensorflow/python/ops/resource_variable_ops.py\", line 858, in _read_variable_op\n    self._dtype)\n  File \"/home/kjliu/anaconda3/envs/tensorflow2.0/lib/python3.6/site-packages/tensorflow/python/ops/gen_resource_variable_ops.py\", line 587, in read_variable_op\n    \"ReadVariableOp\", resource=resource, dtype=dtype, name=name)\n  File \"/home/kjliu/anaconda3/envs/tensorflow2.0/lib/python3.6/site-packages/tensorflow/python/framework/op_def_library.py\", line 800, in _apply_op_helper\n    op_def=op_def)\n  File \"/home/kjliu/anaconda3/envs/tensorflow2.0/lib/python3.6/site-packages/tensorflow/python/util/deprecation.py\", line 507, in new_func\n    return func(*args, **kwargs)\n  File \"/home/kjliu/anaconda3/envs/tensorflow2.0/lib/python3.6/site-packages/tensorflow/python/framework/ops.py\", line 3479, in create_op\n    op_def=op_def)\n  File \"/home/kjliu/anaconda3/envs/tensorflow2.0/lib/python3.6/site-packages/tensorflow/python/framework/ops.py\", line 1961, in __init__\n    self._traceback = tf_stack.extract_stack()\n"
     ]
    }
   ],
   "source": [
    "version = 1\n",
    "export_path = './model/{}'.format(version)\n",
    "builder = tf.compat.v1.saved_model.builder.SavedModelBuilder(export_path)\n",
    "\n",
    "\n",
    "builder.add_meta_graph_and_variables(\n",
    "    tf.compat.v1.keras.backend.get_session(), [tf.compat.v1.saved_model.tag_constants.SERVING],\n",
    "    signature_def_map={'style_transfer':signature,},\n",
    "    strip_default_attrs=True\n",
    ")\n",
    "builder.save()"
   ]
  },
  {
   "cell_type": "code",
   "execution_count": null,
   "metadata": {},
   "outputs": [],
   "source": [
    "!saved_model_cli show --dir ./model/1 --all"
   ]
  },
  {
   "cell_type": "code",
   "execution_count": null,
   "metadata": {
    "collapsed": true
   },
   "outputs": [],
   "source": []
  }
 ],
 "metadata": {
  "kernelspec": {
   "display_name": "Python3 (tensorflow2.0)",
   "language": "python",
   "name": "tensorflow2.0"
  },
  "language_info": {
   "codemirror_mode": {
    "name": "ipython",
    "version": 3
   },
   "file_extension": ".py",
   "mimetype": "text/x-python",
   "name": "python",
   "nbconvert_exporter": "python",
   "pygments_lexer": "ipython3",
   "version": "3.6.8"
  }
 },
 "nbformat": 4,
 "nbformat_minor": 2
}
