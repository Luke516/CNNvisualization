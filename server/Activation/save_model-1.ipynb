{
 "cells": [
  {
   "cell_type": "markdown",
   "metadata": {},
   "source": [
    "# CNN Visualization\n",
    "1. Activation maps\n",
    "2. Filter using gradient ascent\n",
    "3. Deep dream using gradient ascent"
   ]
  },
  {
   "cell_type": "code",
   "execution_count": 1,
   "metadata": {},
   "outputs": [
    {
     "name": "stdout",
     "output_type": "stream",
     "text": [
      "env: CUDA_VISIBLE_DEVICES=\"\"\n"
     ]
    }
   ],
   "source": [
    "%env CUDA_VISIBLE_DEVICES = \"\""
   ]
  },
  {
   "cell_type": "code",
   "execution_count": 2,
   "metadata": {
    "collapsed": true
   },
   "outputs": [],
   "source": [
    "import os \n",
    "import tensorflow as tf \n",
    "import tensorflow.keras as keras\n",
    "tf.config.gpu.set_per_process_memory_growth(True)\n",
    "from tensorflow.keras.preprocessing import image\n",
    "import numpy as np\n",
    "import matplotlib.pyplot as plt\n",
    "tf.compat.v1.disable_eager_execution()\n",
    "sess = tf.compat.v1.Session()"
   ]
  },
  {
   "cell_type": "markdown",
   "metadata": {},
   "source": [
    "Use a pretrained model like VGG16 and VGG19 trained on ImageNet to do the task."
   ]
  },
  {
   "cell_type": "code",
   "execution_count": 3,
   "metadata": {
    "collapsed": true
   },
   "outputs": [],
   "source": [
    "vgg19 = keras.applications.VGG19(include_top=False, input_shape=(224, 224, 3), weights='imagenet')"
   ]
  },
  {
   "cell_type": "code",
   "execution_count": 4,
   "metadata": {},
   "outputs": [
    {
     "name": "stdout",
     "output_type": "stream",
     "text": [
      "Model: \"vgg19\"\n",
      "_________________________________________________________________\n",
      "Layer (type)                 Output Shape              Param #   \n",
      "=================================================================\n",
      "input_1 (InputLayer)         [(None, 224, 224, 3)]     0         \n",
      "_________________________________________________________________\n",
      "block1_conv1 (Conv2D)        (None, 224, 224, 64)      1792      \n",
      "_________________________________________________________________\n",
      "block1_conv2 (Conv2D)        (None, 224, 224, 64)      36928     \n",
      "_________________________________________________________________\n",
      "block1_pool (MaxPooling2D)   (None, 112, 112, 64)      0         \n",
      "_________________________________________________________________\n",
      "block2_conv1 (Conv2D)        (None, 112, 112, 128)     73856     \n",
      "_________________________________________________________________\n",
      "block2_conv2 (Conv2D)        (None, 112, 112, 128)     147584    \n",
      "_________________________________________________________________\n",
      "block2_pool (MaxPooling2D)   (None, 56, 56, 128)       0         \n",
      "_________________________________________________________________\n",
      "block3_conv1 (Conv2D)        (None, 56, 56, 256)       295168    \n",
      "_________________________________________________________________\n",
      "block3_conv2 (Conv2D)        (None, 56, 56, 256)       590080    \n",
      "_________________________________________________________________\n",
      "block3_conv3 (Conv2D)        (None, 56, 56, 256)       590080    \n",
      "_________________________________________________________________\n",
      "block3_conv4 (Conv2D)        (None, 56, 56, 256)       590080    \n",
      "_________________________________________________________________\n",
      "block3_pool (MaxPooling2D)   (None, 28, 28, 256)       0         \n",
      "_________________________________________________________________\n",
      "block4_conv1 (Conv2D)        (None, 28, 28, 512)       1180160   \n",
      "_________________________________________________________________\n",
      "block4_conv2 (Conv2D)        (None, 28, 28, 512)       2359808   \n",
      "_________________________________________________________________\n",
      "block4_conv3 (Conv2D)        (None, 28, 28, 512)       2359808   \n",
      "_________________________________________________________________\n",
      "block4_conv4 (Conv2D)        (None, 28, 28, 512)       2359808   \n",
      "_________________________________________________________________\n",
      "block4_pool (MaxPooling2D)   (None, 14, 14, 512)       0         \n",
      "_________________________________________________________________\n",
      "block5_conv1 (Conv2D)        (None, 14, 14, 512)       2359808   \n",
      "_________________________________________________________________\n",
      "block5_conv2 (Conv2D)        (None, 14, 14, 512)       2359808   \n",
      "_________________________________________________________________\n",
      "block5_conv3 (Conv2D)        (None, 14, 14, 512)       2359808   \n",
      "_________________________________________________________________\n",
      "block5_conv4 (Conv2D)        (None, 14, 14, 512)       2359808   \n",
      "_________________________________________________________________\n",
      "block5_pool (MaxPooling2D)   (None, 7, 7, 512)         0         \n",
      "=================================================================\n",
      "Total params: 20,024,384\n",
      "Trainable params: 20,024,384\n",
      "Non-trainable params: 0\n",
      "_________________________________________________________________\n"
     ]
    }
   ],
   "source": [
    "vgg19.summary()"
   ]
  },
  {
   "cell_type": "code",
   "execution_count": 5,
   "metadata": {},
   "outputs": [
    {
     "name": "stderr",
     "output_type": "stream",
     "text": [
      "WARNING: Logging before flag parsing goes to stderr.\n",
      "W0712 19:58:46.452870 139914048964416 deprecation.py:323] From <ipython-input-5-9b25fa8a44bc>:6: build_tensor_info (from tensorflow.python.saved_model.utils_impl) is deprecated and will be removed in a future version.\n",
      "Instructions for updating:\n",
      "This function will only be available through the v1 compatibility library as tf.compat.v1.saved_model.utils.build_tensor_info or tf.compat.v1.saved_model.build_tensor_info.\n"
     ]
    },
    {
     "data": {
      "text/plain": [
       "b'./model/1/saved_model.pb'"
      ]
     },
     "execution_count": 5,
     "metadata": {},
     "output_type": "execute_result"
    }
   ],
   "source": [
    "version = 1\n",
    "export_path = './model/{}'.format(version)\n",
    "builder = tf.compat.v1.saved_model.builder.SavedModelBuilder(export_path)\n",
    "\n",
    "# Build the signature_def_map.\n",
    "inputs = tf.compat.v1.saved_model.build_tensor_info(vgg19.input)\n",
    "add_variable = False\n",
    "\n",
    "l_ts = []\n",
    "for l in vgg19.layers[1:]:\n",
    "    base64_img = tf.strings.as_string(l.output)\n",
    "    base64_img = tf.reshape(base64_img, [-1])\n",
    "    base64_img = tf.strings.reduce_join(base64_img, separator=',')\n",
    "    base64_img = tf.io.encode_base64(base64_img)\n",
    "    shape = tf.strings.as_string(l.output.shape[1:])\n",
    "    shape = tf.strings.reduce_join(shape, separator=',')\n",
    "    msg = tf.strings.join([shape, base64_img], separator='|')\n",
    "    l_ts.append((l.name, tf.compat.v1.saved_model.build_tensor_info(msg)))\n",
    "l_ts = dict(l_ts)\n",
    "signature = (\n",
    "    # method name must be CLASSIFY_METHOD_NAME, PREDICT_METHOD_NAME or REGRESS_METHOD_NAME\n",
    "    tf.compat.v1.saved_model.signature_def_utils.build_signature_def(\n",
    "        inputs={'input': inputs},\n",
    "        outputs=l_ts,\n",
    "        method_name=tf.compat.v1.saved_model.signature_constants.PREDICT_METHOD_NAME \n",
    "    )\n",
    ")\n",
    "\n",
    "\n",
    "builder.add_meta_graph_and_variables(\n",
    "    tf.compat.v1.keras.backend.get_session(), [tf.compat.v1.saved_model.tag_constants.SERVING],\n",
    "    signature_def_map={'activation':signature,},\n",
    "    strip_default_attrs=True\n",
    ")\n",
    "add_variable = True\n",
    "builder.save()"
   ]
  },
  {
   "cell_type": "code",
   "execution_count": 6,
   "metadata": {},
   "outputs": [
    {
     "name": "stdout",
     "output_type": "stream",
     "text": [
      "\r\n",
      "MetaGraphDef with tag-set: 'serve' contains the following SignatureDefs:\r\n",
      "\r\n",
      "signature_def['activation']:\r\n",
      "  The given SavedModel SignatureDef contains the following input(s):\r\n",
      "    inputs['input'] tensor_info:\r\n",
      "        dtype: DT_FLOAT\r\n",
      "        shape: (-1, 224, 224, 3)\r\n",
      "        name: input_1:0\r\n",
      "  The given SavedModel SignatureDef contains the following output(s):\r\n",
      "    outputs['block1_conv1'] tensor_info:\r\n",
      "        dtype: DT_STRING\r\n",
      "        shape: ()\r\n",
      "        name: StringJoin:0\r\n",
      "    outputs['block1_conv2'] tensor_info:\r\n",
      "        dtype: DT_STRING\r\n",
      "        shape: ()\r\n",
      "        name: StringJoin_1:0\r\n",
      "    outputs['block1_pool'] tensor_info:\r\n",
      "        dtype: DT_STRING\r\n",
      "        shape: ()\r\n",
      "        name: StringJoin_2:0\r\n",
      "    outputs['block2_conv1'] tensor_info:\r\n",
      "        dtype: DT_STRING\r\n",
      "        shape: ()\r\n",
      "        name: StringJoin_3:0\r\n",
      "    outputs['block2_conv2'] tensor_info:\r\n",
      "        dtype: DT_STRING\r\n",
      "        shape: ()\r\n",
      "        name: StringJoin_4:0\r\n",
      "    outputs['block2_pool'] tensor_info:\r\n",
      "        dtype: DT_STRING\r\n",
      "        shape: ()\r\n",
      "        name: StringJoin_5:0\r\n",
      "    outputs['block3_conv1'] tensor_info:\r\n",
      "        dtype: DT_STRING\r\n",
      "        shape: ()\r\n",
      "        name: StringJoin_6:0\r\n",
      "    outputs['block3_conv2'] tensor_info:\r\n",
      "        dtype: DT_STRING\r\n",
      "        shape: ()\r\n",
      "        name: StringJoin_7:0\r\n",
      "    outputs['block3_conv3'] tensor_info:\r\n",
      "        dtype: DT_STRING\r\n",
      "        shape: ()\r\n",
      "        name: StringJoin_8:0\r\n",
      "    outputs['block3_conv4'] tensor_info:\r\n",
      "        dtype: DT_STRING\r\n",
      "        shape: ()\r\n",
      "        name: StringJoin_9:0\r\n",
      "    outputs['block3_pool'] tensor_info:\r\n",
      "        dtype: DT_STRING\r\n",
      "        shape: ()\r\n",
      "        name: StringJoin_10:0\r\n",
      "    outputs['block4_conv1'] tensor_info:\r\n",
      "        dtype: DT_STRING\r\n",
      "        shape: ()\r\n",
      "        name: StringJoin_11:0\r\n",
      "    outputs['block4_conv2'] tensor_info:\r\n",
      "        dtype: DT_STRING\r\n",
      "        shape: ()\r\n",
      "        name: StringJoin_12:0\r\n",
      "    outputs['block4_conv3'] tensor_info:\r\n",
      "        dtype: DT_STRING\r\n",
      "        shape: ()\r\n",
      "        name: StringJoin_13:0\r\n",
      "    outputs['block4_conv4'] tensor_info:\r\n",
      "        dtype: DT_STRING\r\n",
      "        shape: ()\r\n",
      "        name: StringJoin_14:0\r\n",
      "    outputs['block4_pool'] tensor_info:\r\n",
      "        dtype: DT_STRING\r\n",
      "        shape: ()\r\n",
      "        name: StringJoin_15:0\r\n",
      "    outputs['block5_conv1'] tensor_info:\r\n",
      "        dtype: DT_STRING\r\n",
      "        shape: ()\r\n",
      "        name: StringJoin_16:0\r\n",
      "    outputs['block5_conv2'] tensor_info:\r\n",
      "        dtype: DT_STRING\r\n",
      "        shape: ()\r\n",
      "        name: StringJoin_17:0\r\n",
      "    outputs['block5_conv3'] tensor_info:\r\n",
      "        dtype: DT_STRING\r\n",
      "        shape: ()\r\n",
      "        name: StringJoin_18:0\r\n",
      "    outputs['block5_conv4'] tensor_info:\r\n",
      "        dtype: DT_STRING\r\n",
      "        shape: ()\r\n",
      "        name: StringJoin_19:0\r\n",
      "    outputs['block5_pool'] tensor_info:\r\n",
      "        dtype: DT_STRING\r\n",
      "        shape: ()\r\n",
      "        name: StringJoin_20:0\r\n",
      "  Method name is: tensorflow/serving/predict\r\n"
     ]
    }
   ],
   "source": [
    "!saved_model_cli show --dir ./model/1 --all"
   ]
  },
  {
   "cell_type": "code",
   "execution_count": null,
   "metadata": {
    "collapsed": true
   },
   "outputs": [],
   "source": []
  }
 ],
 "metadata": {
  "kernelspec": {
   "display_name": "Python 3(tensorflow2.0)",
   "language": "python",
   "name": "tensorflow2.0"
  },
  "language_info": {
   "codemirror_mode": {
    "name": "ipython",
    "version": 3
   },
   "file_extension": ".py",
   "mimetype": "text/x-python",
   "name": "python",
   "nbconvert_exporter": "python",
   "pygments_lexer": "ipython3",
   "version": "3.6.8"
  }
 },
 "nbformat": 4,
 "nbformat_minor": 2
}
