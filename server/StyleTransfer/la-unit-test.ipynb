{
 "cells": [
  {
   "cell_type": "code",
   "execution_count": null,
   "metadata": {},
   "outputs": [],
   "source": [
    "from adain import *"
   ]
  },
  {
   "cell_type": "markdown",
   "metadata": {},
   "source": [
    "# Preprocess #"
   ]
  },
  {
   "cell_type": "code",
   "execution_count": null,
   "metadata": {},
   "outputs": [],
   "source": [
    "obj = MegamiBase(\n",
    "    \"../../megami/td/c/\", # Raw content root\n",
    "    \"../../megami/td/s/\", # Raw style root\n",
    "    None,\n",
    "    None, #(\"../../coco/train2014/\", \"../../coco/test2014/\",), # Original content path\n",
    "    None, #(\"../../wikiart/train/train/\", \"../../wikiart/test/\",), # Original style path\n",
    "    None,\n",
    ")"
   ]
  },
  {
   "cell_type": "markdown",
   "metadata": {},
   "source": [
    "# Training #"
   ]
  },
  {
   "cell_type": "code",
   "execution_count": null,
   "metadata": {},
   "outputs": [],
   "source": [
    "obj.setAst(\n",
    "    1.0, # Content loss weight\n",
    "    8.0, # Style loss weight\n",
    "    1.0e-06, #  AdaIN\n",
    "    None, # Weight path\n",
    ")"
   ]
  },
  {
   "cell_type": "code",
   "execution_count": null,
   "metadata": {},
   "outputs": [],
   "source": [
    "laAstTrain(\n",
    "    obj,\n",
    "    \"../../megami/td/c/\", # Content root\n",
    "    \"../../megami/td/s/\", # Style root\n",
    "    0x8, # Epoch\n",
    "    0x2000, # Step / Epoch\n",
    "    0x20, # Batch size\n",
    "     1.0e-04, # Learning rate\n",
    "    \"../../mdl_L/\" # Decoder weight path\n",
    ")"
   ]
  },
  {
   "cell_type": "markdown",
   "metadata": {},
   "source": [
    "# Style Transfer #"
   ]
  },
  {
   "cell_type": "code",
   "execution_count": null,
   "metadata": {},
   "outputs": [],
   "source": [
    "obj = MegamiBase(\n",
    "    \"../../megami/content/\", # Raw content root\n",
    "    \"../../megami/style/\", # Raw style root\n",
    "    \"../../megami/ctrl/\", # Raw color map root , Applies color control when specified\n",
    "    None, #(\"../../megami/content_man/\", ), # Original content path\n",
    "    None, #(\"../../megami/style_man/\", ), # Original style path\n",
    "    None, #(\"../../megami/ctrl_man/\", ), # Original color control path\n",
    "    True,\n",
    ")"
   ]
  },
  {
   "cell_type": "code",
   "execution_count": null,
   "metadata": {},
   "outputs": [],
   "source": [
    "obj.setAst(\n",
    "    1.0, # Content loss weight\n",
    "    10.0, # Style loss weight\n",
    "    1.0e-06, #  AdaIN\n",
    "    \"../../mdl_L/\" # Decoder weight\n",
    ")"
   ]
  },
  {
   "cell_type": "code",
   "execution_count": null,
   "metadata": {},
   "outputs": [],
   "source": [
    "laAstTransCoral(\n",
    "    obj,\n",
    "    \"../../megami/content/\", # Raw content root\n",
    "    \"../../megami/style/\", # Raw style root\n",
    "    \"../../megami/trans_ctrl/\", # Raw output root\n",
    "    \"../../megami/ctrl/\", # Raw color map root\n",
    "    \"../../megami/trans_ctrl_man/\" # Visualized output root\n",
    ")"
   ]
  }
 ],
 "metadata": {
  "kernelspec": {
   "display_name": "Python 3",
   "language": "python",
   "name": "python3"
  },
  "language_info": {
   "codemirror_mode": {
    "name": "ipython",
    "version": 3
   },
   "file_extension": ".py",
   "mimetype": "text/x-python",
   "name": "python",
   "nbconvert_exporter": "python",
   "pygments_lexer": "ipython3",
   "version": "3.7.3"
  }
 },
 "nbformat": 4,
 "nbformat_minor": 2
}
